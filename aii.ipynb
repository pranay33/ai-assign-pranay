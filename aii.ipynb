{
 "cells": [
  {
   "cell_type": "code",
   "execution_count": 1,
   "metadata": {},
   "outputs": [],
   "source": [
    "import tensorflow as tf\n",
    "from tensorflow.keras.preprocessing.text import Tokenizer\n",
    "from tensorflow.keras.layers import Embedding, LSTM, Dense\n",
    "from tensorflow.keras.models import Sequential\n",
    "from tensorflow.keras.utils import to_categorical\n",
    "from tensorflow.keras.optimizers import Adam\n",
    "import pickle\n",
    "import numpy as np\n",
    "import os"
   ]
  },
  {
   "cell_type": "code",
   "execution_count": 1,
   "metadata": {},
   "outputs": [
    {
     "name": "stdout",
     "output_type": "stream",
     "text": [
      "The First Line:  One morning, when Gregor Samsa woke from troubled dreams, he found\n",
      "\n",
      "The Last Line:  first to get up and stretch out her young body.\n"
     ]
    }
   ],
   "source": [
    "file = open(\"metamorphosis_clean.txt\", \"r\", encoding = \"utf8\")\n",
    "lines = []\n",
    "\n",
    "for i in file:\n",
    "    lines.append(i)\n",
    "    \n",
    "print(\"The First Line: \", lines[0])\n",
    "print(\"The Last Line: \", lines[-1])"
   ]
  },
  {
   "cell_type": "code",
   "execution_count": 2,
   "metadata": {},
   "outputs": [
    {
     "data": {
      "text/plain": [
       "'One morning, when Gregor Samsa woke from troubled dreams, he found himself transformed in his bed into a horrible vermin.  He lay on his armour-like back, and if he lifted his head a little he could see his brown belly, slightly domed and divided by arches into stiff sections.  The bedding was hardly able to cover it and seemed ready to slide off any moment.'"
      ]
     },
     "execution_count": 2,
     "metadata": {},
     "output_type": "execute_result"
    }
   ],
   "source": [
    "data = \"\"\n",
    "\n",
    "for i in lines:\n",
    "    data = ' '. join(lines)\n",
    "    \n",
    "data = data.replace('\\n', '').replace('\\r', '').replace('\\ufeff', '')\n",
    "data[:360]"
   ]
  },
  {
   "cell_type": "code",
   "execution_count": 3,
   "metadata": {},
   "outputs": [
    {
     "data": {
      "text/plain": [
       "'One morning  when Gregor Samsa woke from troubled dreams  he found himself transformed in his bed into a horrible vermin   He lay on his armour like back  and if he lifted his head a little he could see his brown belly  slightly domed and divided by arches into stiff sections   The bedding was hardly able to cover it and seemed ready to slide off any moment   His many legs  pitifully thin compared with the size of the rest of him  waved about helplessly as he looked    What s happened to me   he'"
      ]
     },
     "execution_count": 3,
     "metadata": {},
     "output_type": "execute_result"
    }
   ],
   "source": [
    "import string\n",
    "\n",
    "translator = str.maketrans(string.punctuation, ' '*len(string.punctuation)) #map punctuation to space\n",
    "new_data = data.translate(translator)\n",
    "\n",
    "new_data[:500]"
   ]
  },
  {
   "cell_type": "code",
   "execution_count": 4,
   "metadata": {},
   "outputs": [
    {
     "data": {
      "text/plain": [
       "'One morning, when Gregor Samsa woke from troubled dreams, he found himself transformed in his bed into a horrible vermin. He lay on armour-like back, and if lifted head little could see brown belly, slightly domed divided by arches stiff sections. The bedding was hardly able to cover it seemed ready slide off any moment. His many legs, pitifully thin compared with the size of rest him, waved about helplessly as looked. \"What\\'s happened me?\" thought. It wasn\\'t dream. room, proper human room altho'"
      ]
     },
     "execution_count": 4,
     "metadata": {},
     "output_type": "execute_result"
    }
   ],
   "source": [
    "z = []\n",
    "\n",
    "for i in data.split():\n",
    "    if i not in z:\n",
    "        z.append(i)\n",
    "        \n",
    "data = ' '.join(z)\n",
    "data[:500]"
   ]
  },
  {
   "cell_type": "code",
   "execution_count": 8,
   "metadata": {},
   "outputs": [
    {
     "name": "stderr",
     "output_type": "stream",
     "text": [
      "[nltk_data] Downloading package punkt to\n",
      "[nltk_data]     C:\\Users\\pranay\\AppData\\Roaming\\nltk_data...\n",
      "[nltk_data]   Package punkt is already up-to-date!\n"
     ]
    },
    {
     "data": {
      "text/plain": [
       "True"
      ]
     },
     "execution_count": 8,
     "metadata": {},
     "output_type": "execute_result"
    }
   ],
   "source": [
    "import nltk\n",
    "nltk.download(\"punkt\")"
   ]
  },
  {
   "cell_type": "code",
   "execution_count": null,
   "metadata": {},
   "outputs": [],
   "source": []
  },
  {
   "cell_type": "code",
   "execution_count": 28,
   "metadata": {},
   "outputs": [],
   "source": [
    "from tensorflow.keras.preprocessing.text import Tokenizer\n"
   ]
  },
  {
   "cell_type": "code",
   "execution_count": 30,
   "metadata": {},
   "outputs": [],
   "source": [
    "import pickle"
   ]
  },
  {
   "cell_type": "code",
   "execution_count": 31,
   "metadata": {},
   "outputs": [
    {
     "data": {
      "text/plain": [
       "[17, 53, 293, 2, 18, 729, 135, 730, 294, 8]"
      ]
     },
     "execution_count": 31,
     "metadata": {},
     "output_type": "execute_result"
    }
   ],
   "source": [
    "tokenizer = Tokenizer()\n",
    "tokenizer.fit_on_texts([data])\n",
    "\n",
    "# saving the tokenizer for predict function.\n",
    "pickle.dump(tokenizer, open('tokenizer1.pkl', 'wb'))\n",
    "\n",
    "sequence_data = tokenizer.texts_to_sequences([data])[0]\n",
    "sequence_data[:10]"
   ]
  },
  {
   "cell_type": "code",
   "execution_count": 32,
   "metadata": {},
   "outputs": [
    {
     "name": "stdout",
     "output_type": "stream",
     "text": [
      "2617\n"
     ]
    }
   ],
   "source": [
    "vocab_size = len(tokenizer.word_index) + 1\n",
    "print(vocab_size)"
   ]
  },
  {
   "cell_type": "code",
   "execution_count": 34,
   "metadata": {},
   "outputs": [],
   "source": [
    "import numpy as np"
   ]
  },
  {
   "cell_type": "code",
   "execution_count": 35,
   "metadata": {},
   "outputs": [
    {
     "name": "stdout",
     "output_type": "stream",
     "text": [
      "The Length of sequences are:  3889\n"
     ]
    },
    {
     "data": {
      "text/plain": [
       "array([[ 17,  53],\n",
       "       [ 53, 293],\n",
       "       [293,   2],\n",
       "       [  2,  18],\n",
       "       [ 18, 729],\n",
       "       [729, 135],\n",
       "       [135, 730],\n",
       "       [730, 294],\n",
       "       [294,   8],\n",
       "       [  8, 731]])"
      ]
     },
     "execution_count": 35,
     "metadata": {},
     "output_type": "execute_result"
    }
   ],
   "source": [
    "sequences = []\n",
    "\n",
    "for i in range(1, len(sequence_data)):\n",
    "    words = sequence_data[i-1:i+1]\n",
    "    sequences.append(words)\n",
    "    \n",
    "print(\"The Length of sequences are: \", len(sequences))\n",
    "sequences = np.array(sequences)\n",
    "sequences[:10]"
   ]
  },
  {
   "cell_type": "code",
   "execution_count": 36,
   "metadata": {},
   "outputs": [],
   "source": [
    "X = []\n",
    "y = []\n",
    "\n",
    "for i in sequences:\n",
    "    X.append(i[0])\n",
    "    y.append(i[1])\n",
    "    \n",
    "X = np.array(X)\n",
    "y = np.array(y)"
   ]
  },
  {
   "cell_type": "code",
   "execution_count": 37,
   "metadata": {},
   "outputs": [
    {
     "name": "stdout",
     "output_type": "stream",
     "text": [
      "The Data is:  [ 17  53 293   2  18]\n",
      "The responses are:  [ 53 293   2  18 729]\n"
     ]
    }
   ],
   "source": [
    "print(\"The Data is: \", X[:5])\n",
    "print(\"The responses are: \", y[:5])"
   ]
  },
  {
   "cell_type": "code",
   "execution_count": 39,
   "metadata": {},
   "outputs": [],
   "source": [
    "from tensorflow.keras.utils import to_categorical"
   ]
  },
  {
   "cell_type": "code",
   "execution_count": 40,
   "metadata": {},
   "outputs": [
    {
     "data": {
      "text/plain": [
       "array([[0., 0., 0., ..., 0., 0., 0.],\n",
       "       [0., 0., 0., ..., 0., 0., 0.],\n",
       "       [0., 0., 1., ..., 0., 0., 0.],\n",
       "       [0., 0., 0., ..., 0., 0., 0.],\n",
       "       [0., 0., 0., ..., 0., 0., 0.]], dtype=float32)"
      ]
     },
     "execution_count": 40,
     "metadata": {},
     "output_type": "execute_result"
    }
   ],
   "source": [
    "y = to_categorical(y, num_classes=vocab_size)\n",
    "y[:5]"
   ]
  },
  {
   "cell_type": "code",
   "execution_count": 42,
   "metadata": {},
   "outputs": [],
   "source": [
    "from tensorflow.keras.models import Sequential"
   ]
  },
  {
   "cell_type": "code",
   "execution_count": 44,
   "metadata": {},
   "outputs": [],
   "source": [
    "import tensorflow as tf\n",
    "from tensorflow.keras.preprocessing.text import Tokenizer\n",
    "from tensorflow.keras.layers import Embedding, LSTM, Dense\n",
    "from tensorflow.keras.models import Sequential\n",
    "from tensorflow.keras.utils import to_categorical\n",
    "from tensorflow.keras.optimizers import Adam\n",
    "import pickle\n",
    "import numpy as np\n",
    "import os"
   ]
  },
  {
   "cell_type": "code",
   "execution_count": 45,
   "metadata": {},
   "outputs": [],
   "source": [
    "model = Sequential()\n",
    "model.add(Embedding(vocab_size, 10, input_length=1))\n",
    "model.add(LSTM(1000, return_sequences=True))\n",
    "model.add(LSTM(1000))\n",
    "model.add(Dense(1000, activation=\"relu\"))\n",
    "model.add(Dense(vocab_size, activation=\"softmax\"))"
   ]
  },
  {
   "cell_type": "code",
   "execution_count": 46,
   "metadata": {},
   "outputs": [
    {
     "name": "stdout",
     "output_type": "stream",
     "text": [
      "Model: \"sequential_1\"\n",
      "_________________________________________________________________\n",
      " Layer (type)                Output Shape              Param #   \n",
      "=================================================================\n",
      " embedding (Embedding)       (None, 1, 10)             26170     \n",
      "                                                                 \n",
      " lstm (LSTM)                 (None, 1, 1000)           4044000   \n",
      "                                                                 \n",
      " lstm_1 (LSTM)               (None, 1000)              8004000   \n",
      "                                                                 \n",
      " dense (Dense)               (None, 1000)              1001000   \n",
      "                                                                 \n",
      " dense_1 (Dense)             (None, 2617)              2619617   \n",
      "                                                                 \n",
      "=================================================================\n",
      "Total params: 15,694,787\n",
      "Trainable params: 15,694,787\n",
      "Non-trainable params: 0\n",
      "_________________________________________________________________\n"
     ]
    }
   ],
   "source": [
    "model.summary()"
   ]
  },
  {
   "cell_type": "code",
   "execution_count": 47,
   "metadata": {},
   "outputs": [
    {
     "name": "stdout",
     "output_type": "stream",
     "text": [
      "You must install pydot (`pip install pydot`) and install graphviz (see instructions at https://graphviz.gitlab.io/download/) for plot_model/model_to_dot to work.\n"
     ]
    }
   ],
   "source": [
    "from tensorflow import keras\n",
    "from keras.utils.vis_utils import plot_model\n",
    "\n",
    "keras.utils.plot_model(model, to_file='model.png', show_layer_names=True)"
   ]
  },
  {
   "cell_type": "code",
   "execution_count": 48,
   "metadata": {},
   "outputs": [],
   "source": [
    "from tensorflow.keras.callbacks import ModelCheckpoint\n",
    "from tensorflow.keras.callbacks import ReduceLROnPlateau\n",
    "from tensorflow.keras.callbacks import TensorBoard\n",
    "\n",
    "checkpoint = ModelCheckpoint(\"nextword1.h5\", monitor='loss', verbose=1,\n",
    "    save_best_only=True, mode='auto')\n",
    "\n",
    "reduce = ReduceLROnPlateau(monitor='loss', factor=0.2, patience=3, min_lr=0.0001, verbose = 1)\n",
    "\n",
    "logdir='logsnextword1'\n",
    "tensorboard_Visualization = TensorBoard(log_dir=logdir)"
   ]
  },
  {
   "cell_type": "code",
   "execution_count": 49,
   "metadata": {},
   "outputs": [
    {
     "name": "stderr",
     "output_type": "stream",
     "text": [
      "C:\\Users\\pranay\\anaconda3\\lib\\site-packages\\keras\\optimizer_v2\\adam.py:105: UserWarning: The `lr` argument is deprecated, use `learning_rate` instead.\n",
      "  super(Adam, self).__init__(name, **kwargs)\n"
     ]
    }
   ],
   "source": [
    "model.compile(loss=\"categorical_crossentropy\", optimizer=Adam(lr=0.001))"
   ]
  },
  {
   "cell_type": "code",
   "execution_count": 50,
   "metadata": {},
   "outputs": [
    {
     "name": "stdout",
     "output_type": "stream",
     "text": [
      "Epoch 1/150\n",
      "61/61 [==============================] - ETA: 0s - loss: 7.8755\n",
      "Epoch 1: loss improved from inf to 7.87547, saving model to nextword1.h5\n",
      "61/61 [==============================] - 28s 261ms/step - loss: 7.8755 - lr: 0.0010\n",
      "Epoch 2/150\n",
      "61/61 [==============================] - ETA: 0s - loss: 7.8629\n",
      "Epoch 2: loss improved from 7.87547 to 7.86290, saving model to nextword1.h5\n",
      "61/61 [==============================] - 16s 260ms/step - loss: 7.8629 - lr: 0.0010\n",
      "Epoch 3/150\n",
      "61/61 [==============================] - ETA: 0s - loss: 7.8256\n",
      "Epoch 3: loss improved from 7.86290 to 7.82561, saving model to nextword1.h5\n",
      "61/61 [==============================] - 15s 247ms/step - loss: 7.8256 - lr: 0.0010\n",
      "Epoch 4/150\n",
      "61/61 [==============================] - ETA: 0s - loss: 7.6423\n",
      "Epoch 4: loss improved from 7.82561 to 7.64230, saving model to nextword1.h5\n",
      "61/61 [==============================] - 15s 243ms/step - loss: 7.6423 - lr: 0.0010\n",
      "Epoch 5/150\n",
      "61/61 [==============================] - ETA: 0s - loss: 7.4365\n",
      "Epoch 5: loss improved from 7.64230 to 7.43649, saving model to nextword1.h5\n",
      "61/61 [==============================] - 15s 246ms/step - loss: 7.4365 - lr: 0.0010\n",
      "Epoch 6/150\n",
      "61/61 [==============================] - ETA: 0s - loss: 7.2582\n",
      "Epoch 6: loss improved from 7.43649 to 7.25820, saving model to nextword1.h5\n",
      "61/61 [==============================] - 14s 226ms/step - loss: 7.2582 - lr: 0.0010\n",
      "Epoch 7/150\n",
      "61/61 [==============================] - ETA: 0s - loss: 7.1428\n",
      "Epoch 7: loss improved from 7.25820 to 7.14277, saving model to nextword1.h5\n",
      "61/61 [==============================] - 14s 226ms/step - loss: 7.1428 - lr: 0.0010\n",
      "Epoch 8/150\n",
      "61/61 [==============================] - ETA: 0s - loss: 7.0614\n",
      "Epoch 8: loss improved from 7.14277 to 7.06144, saving model to nextword1.h5\n",
      "61/61 [==============================] - 14s 235ms/step - loss: 7.0614 - lr: 0.0010\n",
      "Epoch 9/150\n",
      "61/61 [==============================] - ETA: 0s - loss: 6.9822\n",
      "Epoch 9: loss improved from 7.06144 to 6.98218, saving model to nextword1.h5\n",
      "61/61 [==============================] - 14s 225ms/step - loss: 6.9822 - lr: 0.0010\n",
      "Epoch 10/150\n",
      "61/61 [==============================] - ETA: 0s - loss: 6.9022\n",
      "Epoch 10: loss improved from 6.98218 to 6.90222, saving model to nextword1.h5\n",
      "61/61 [==============================] - 14s 228ms/step - loss: 6.9022 - lr: 0.0010\n",
      "Epoch 11/150\n",
      "61/61 [==============================] - ETA: 0s - loss: 6.7969\n",
      "Epoch 11: loss improved from 6.90222 to 6.79688, saving model to nextword1.h5\n",
      "61/61 [==============================] - 14s 227ms/step - loss: 6.7969 - lr: 0.0010\n",
      "Epoch 12/150\n",
      "61/61 [==============================] - ETA: 0s - loss: 6.6629\n",
      "Epoch 12: loss improved from 6.79688 to 6.66292, saving model to nextword1.h5\n",
      "61/61 [==============================] - 14s 224ms/step - loss: 6.6629 - lr: 0.0010\n",
      "Epoch 13/150\n",
      "61/61 [==============================] - ETA: 0s - loss: 6.4847\n",
      "Epoch 13: loss improved from 6.66292 to 6.48475, saving model to nextword1.h5\n",
      "61/61 [==============================] - 14s 237ms/step - loss: 6.4847 - lr: 0.0010\n",
      "Epoch 14/150\n",
      "61/61 [==============================] - ETA: 0s - loss: 6.2677\n",
      "Epoch 14: loss improved from 6.48475 to 6.26772, saving model to nextword1.h5\n",
      "61/61 [==============================] - 14s 230ms/step - loss: 6.2677 - lr: 0.0010\n",
      "Epoch 15/150\n",
      "61/61 [==============================] - ETA: 0s - loss: 6.0719\n",
      "Epoch 15: loss improved from 6.26772 to 6.07189, saving model to nextword1.h5\n",
      "61/61 [==============================] - 14s 226ms/step - loss: 6.0719 - lr: 0.0010\n",
      "Epoch 16/150\n",
      "61/61 [==============================] - ETA: 0s - loss: 5.8917\n",
      "Epoch 16: loss improved from 6.07189 to 5.89167, saving model to nextword1.h5\n",
      "61/61 [==============================] - 14s 227ms/step - loss: 5.8917 - lr: 0.0010\n",
      "Epoch 17/150\n",
      "61/61 [==============================] - ETA: 0s - loss: 5.7333\n",
      "Epoch 17: loss improved from 5.89167 to 5.73328, saving model to nextword1.h5\n",
      "61/61 [==============================] - 14s 224ms/step - loss: 5.7333 - lr: 0.0010\n",
      "Epoch 18/150\n",
      "61/61 [==============================] - ETA: 0s - loss: 5.5565\n",
      "Epoch 18: loss improved from 5.73328 to 5.55645, saving model to nextword1.h5\n",
      "61/61 [==============================] - 14s 225ms/step - loss: 5.5565 - lr: 0.0010\n",
      "Epoch 19/150\n",
      "61/61 [==============================] - ETA: 0s - loss: 5.4194\n",
      "Epoch 19: loss improved from 5.55645 to 5.41939, saving model to nextword1.h5\n",
      "61/61 [==============================] - 14s 223ms/step - loss: 5.4194 - lr: 0.0010\n",
      "Epoch 20/150\n",
      "61/61 [==============================] - ETA: 0s - loss: 5.2913\n",
      "Epoch 20: loss improved from 5.41939 to 5.29131, saving model to nextword1.h5\n",
      "61/61 [==============================] - 14s 224ms/step - loss: 5.2913 - lr: 0.0010\n",
      "Epoch 21/150\n",
      "61/61 [==============================] - ETA: 0s - loss: 5.1660\n",
      "Epoch 21: loss improved from 5.29131 to 5.16600, saving model to nextword1.h5\n",
      "61/61 [==============================] - 14s 224ms/step - loss: 5.1660 - lr: 0.0010\n",
      "Epoch 22/150\n",
      "61/61 [==============================] - ETA: 0s - loss: 5.0351\n",
      "Epoch 22: loss improved from 5.16600 to 5.03510, saving model to nextword1.h5\n",
      "61/61 [==============================] - 14s 222ms/step - loss: 5.0351 - lr: 0.0010\n",
      "Epoch 23/150\n",
      "61/61 [==============================] - ETA: 0s - loss: 4.9413\n",
      "Epoch 23: loss improved from 5.03510 to 4.94127, saving model to nextword1.h5\n",
      "61/61 [==============================] - 14s 222ms/step - loss: 4.9413 - lr: 0.0010\n",
      "Epoch 24/150\n",
      "61/61 [==============================] - ETA: 0s - loss: 4.8369\n",
      "Epoch 24: loss improved from 4.94127 to 4.83691, saving model to nextword1.h5\n",
      "61/61 [==============================] - 13s 221ms/step - loss: 4.8369 - lr: 0.0010\n",
      "Epoch 25/150\n",
      "61/61 [==============================] - ETA: 0s - loss: 4.7477\n",
      "Epoch 25: loss improved from 4.83691 to 4.74771, saving model to nextword1.h5\n",
      "61/61 [==============================] - 13s 219ms/step - loss: 4.7477 - lr: 0.0010\n",
      "Epoch 26/150\n",
      "61/61 [==============================] - ETA: 0s - loss: 4.6311\n",
      "Epoch 26: loss improved from 4.74771 to 4.63110, saving model to nextword1.h5\n",
      "61/61 [==============================] - 14s 227ms/step - loss: 4.6311 - lr: 0.0010\n",
      "Epoch 27/150\n",
      "61/61 [==============================] - ETA: 0s - loss: 4.5547\n",
      "Epoch 27: loss improved from 4.63110 to 4.55471, saving model to nextword1.h5\n",
      "61/61 [==============================] - 14s 225ms/step - loss: 4.5547 - lr: 0.0010\n",
      "Epoch 28/150\n",
      "61/61 [==============================] - ETA: 0s - loss: 4.4764\n",
      "Epoch 28: loss improved from 4.55471 to 4.47635, saving model to nextword1.h5\n",
      "61/61 [==============================] - 14s 230ms/step - loss: 4.4764 - lr: 0.0010\n",
      "Epoch 29/150\n",
      "61/61 [==============================] - ETA: 0s - loss: 4.4095\n",
      "Epoch 29: loss improved from 4.47635 to 4.40954, saving model to nextword1.h5\n",
      "61/61 [==============================] - 14s 226ms/step - loss: 4.4095 - lr: 0.0010\n",
      "Epoch 30/150\n",
      "61/61 [==============================] - ETA: 0s - loss: 4.3480\n",
      "Epoch 30: loss improved from 4.40954 to 4.34804, saving model to nextword1.h5\n",
      "61/61 [==============================] - 14s 226ms/step - loss: 4.3480 - lr: 0.0010\n",
      "Epoch 31/150\n",
      "61/61 [==============================] - ETA: 0s - loss: 4.3063\n",
      "Epoch 31: loss improved from 4.34804 to 4.30629, saving model to nextword1.h5\n",
      "61/61 [==============================] - 13s 219ms/step - loss: 4.3063 - lr: 0.0010\n",
      "Epoch 32/150\n",
      "61/61 [==============================] - ETA: 0s - loss: 4.2272\n",
      "Epoch 32: loss improved from 4.30629 to 4.22724, saving model to nextword1.h5\n",
      "61/61 [==============================] - 14s 221ms/step - loss: 4.2272 - lr: 0.0010\n",
      "Epoch 33/150\n",
      "61/61 [==============================] - ETA: 0s - loss: 4.1218\n",
      "Epoch 33: loss improved from 4.22724 to 4.12178, saving model to nextword1.h5\n",
      "61/61 [==============================] - 13s 217ms/step - loss: 4.1218 - lr: 0.0010\n",
      "Epoch 34/150\n",
      "61/61 [==============================] - ETA: 0s - loss: 4.0364\n",
      "Epoch 34: loss improved from 4.12178 to 4.03642, saving model to nextword1.h5\n",
      "61/61 [==============================] - 13s 219ms/step - loss: 4.0364 - lr: 0.0010\n",
      "Epoch 35/150\n",
      "61/61 [==============================] - ETA: 0s - loss: 3.9798\n",
      "Epoch 35: loss improved from 4.03642 to 3.97980, saving model to nextword1.h5\n",
      "61/61 [==============================] - 13s 221ms/step - loss: 3.9798 - lr: 0.0010\n",
      "Epoch 36/150\n",
      "61/61 [==============================] - ETA: 0s - loss: 3.9188\n",
      "Epoch 36: loss improved from 3.97980 to 3.91881, saving model to nextword1.h5\n",
      "61/61 [==============================] - 13s 220ms/step - loss: 3.9188 - lr: 0.0010\n",
      "Epoch 37/150\n",
      "61/61 [==============================] - ETA: 0s - loss: 3.8484\n",
      "Epoch 37: loss improved from 3.91881 to 3.84838, saving model to nextword1.h5\n",
      "61/61 [==============================] - 13s 219ms/step - loss: 3.8484 - lr: 0.0010\n",
      "Epoch 38/150\n",
      "61/61 [==============================] - ETA: 0s - loss: 3.7734\n",
      "Epoch 38: loss improved from 3.84838 to 3.77336, saving model to nextword1.h5\n",
      "61/61 [==============================] - 14s 222ms/step - loss: 3.7734 - lr: 0.0010\n",
      "Epoch 39/150\n",
      "61/61 [==============================] - ETA: 0s - loss: 3.6874\n",
      "Epoch 39: loss improved from 3.77336 to 3.68736, saving model to nextword1.h5\n",
      "61/61 [==============================] - 14s 222ms/step - loss: 3.6874 - lr: 0.0010\n",
      "Epoch 40/150\n",
      "61/61 [==============================] - ETA: 0s - loss: 3.6169\n",
      "Epoch 40: loss improved from 3.68736 to 3.61690, saving model to nextword1.h5\n",
      "61/61 [==============================] - 13s 220ms/step - loss: 3.6169 - lr: 0.0010\n",
      "Epoch 41/150\n",
      "61/61 [==============================] - ETA: 0s - loss: 3.5359\n",
      "Epoch 41: loss improved from 3.61690 to 3.53588, saving model to nextword1.h5\n",
      "61/61 [==============================] - 13s 219ms/step - loss: 3.5359 - lr: 0.0010\n",
      "Epoch 42/150\n",
      "61/61 [==============================] - ETA: 0s - loss: 3.4512\n",
      "Epoch 42: loss improved from 3.53588 to 3.45122, saving model to nextword1.h5\n",
      "61/61 [==============================] - 13s 220ms/step - loss: 3.4512 - lr: 0.0010\n",
      "Epoch 43/150\n",
      "61/61 [==============================] - ETA: 0s - loss: 3.3708\n",
      "Epoch 43: loss improved from 3.45122 to 3.37083, saving model to nextword1.h5\n",
      "61/61 [==============================] - 13s 219ms/step - loss: 3.3708 - lr: 0.0010\n",
      "Epoch 44/150\n",
      "61/61 [==============================] - ETA: 0s - loss: 3.3159\n",
      "Epoch 44: loss improved from 3.37083 to 3.31591, saving model to nextword1.h5\n",
      "61/61 [==============================] - 13s 218ms/step - loss: 3.3159 - lr: 0.0010\n",
      "Epoch 45/150\n",
      "61/61 [==============================] - ETA: 0s - loss: 3.2065\n",
      "Epoch 45: loss improved from 3.31591 to 3.20645, saving model to nextword1.h5\n",
      "61/61 [==============================] - 13s 219ms/step - loss: 3.2065 - lr: 0.0010\n",
      "Epoch 46/150\n",
      "61/61 [==============================] - ETA: 0s - loss: 3.1237\n",
      "Epoch 46: loss improved from 3.20645 to 3.12372, saving model to nextword1.h5\n",
      "61/61 [==============================] - 14s 223ms/step - loss: 3.1237 - lr: 0.0010\n",
      "Epoch 47/150\n",
      "61/61 [==============================] - ETA: 0s - loss: 3.0307\n",
      "Epoch 47: loss improved from 3.12372 to 3.03065, saving model to nextword1.h5\n",
      "61/61 [==============================] - 13s 221ms/step - loss: 3.0307 - lr: 0.0010\n",
      "Epoch 48/150\n",
      "61/61 [==============================] - ETA: 0s - loss: 2.9838\n",
      "Epoch 48: loss improved from 3.03065 to 2.98381, saving model to nextword1.h5\n",
      "61/61 [==============================] - 14s 224ms/step - loss: 2.9838 - lr: 0.0010\n",
      "Epoch 49/150\n",
      "61/61 [==============================] - ETA: 0s - loss: 2.9293\n",
      "Epoch 49: loss improved from 2.98381 to 2.92934, saving model to nextword1.h5\n",
      "61/61 [==============================] - 14s 222ms/step - loss: 2.9293 - lr: 0.0010\n",
      "Epoch 50/150\n",
      "61/61 [==============================] - ETA: 0s - loss: 2.8638\n",
      "Epoch 50: loss improved from 2.92934 to 2.86378, saving model to nextword1.h5\n",
      "61/61 [==============================] - 15s 243ms/step - loss: 2.8638 - lr: 0.0010\n",
      "Epoch 51/150\n",
      "61/61 [==============================] - ETA: 0s - loss: 2.8248\n",
      "Epoch 51: loss improved from 2.86378 to 2.82484, saving model to nextword1.h5\n",
      "61/61 [==============================] - 12s 201ms/step - loss: 2.8248 - lr: 0.0010\n",
      "Epoch 52/150\n",
      "61/61 [==============================] - ETA: 0s - loss: 2.7557\n",
      "Epoch 52: loss improved from 2.82484 to 2.75565, saving model to nextword1.h5\n",
      "61/61 [==============================] - 13s 207ms/step - loss: 2.7557 - lr: 0.0010\n",
      "Epoch 53/150\n",
      "61/61 [==============================] - ETA: 0s - loss: 2.6772\n",
      "Epoch 53: loss improved from 2.75565 to 2.67721, saving model to nextword1.h5\n",
      "61/61 [==============================] - 16s 257ms/step - loss: 2.6772 - lr: 0.0010\n",
      "Epoch 54/150\n",
      "61/61 [==============================] - ETA: 0s - loss: 2.6165\n",
      "Epoch 54: loss improved from 2.67721 to 2.61649, saving model to nextword1.h5\n",
      "61/61 [==============================] - 13s 218ms/step - loss: 2.6165 - lr: 0.0010\n",
      "Epoch 55/150\n",
      "61/61 [==============================] - ETA: 0s - loss: 2.5544\n",
      "Epoch 55: loss improved from 2.61649 to 2.55444, saving model to nextword1.h5\n",
      "61/61 [==============================] - 15s 242ms/step - loss: 2.5544 - lr: 0.0010\n",
      "Epoch 56/150\n",
      "61/61 [==============================] - ETA: 0s - loss: 2.5063\n",
      "Epoch 56: loss improved from 2.55444 to 2.50632, saving model to nextword1.h5\n",
      "61/61 [==============================] - 15s 243ms/step - loss: 2.5063 - lr: 0.0010\n",
      "Epoch 57/150\n",
      "61/61 [==============================] - ETA: 0s - loss: 2.4709\n",
      "Epoch 57: loss improved from 2.50632 to 2.47090, saving model to nextword1.h5\n",
      "61/61 [==============================] - 13s 213ms/step - loss: 2.4709 - lr: 0.0010\n",
      "Epoch 58/150\n",
      "61/61 [==============================] - ETA: 0s - loss: 2.4283\n",
      "Epoch 58: loss improved from 2.47090 to 2.42833, saving model to nextword1.h5\n",
      "61/61 [==============================] - 14s 234ms/step - loss: 2.4283 - lr: 0.0010\n",
      "Epoch 59/150\n",
      "61/61 [==============================] - ETA: 0s - loss: 2.3896\n",
      "Epoch 59: loss improved from 2.42833 to 2.38964, saving model to nextword1.h5\n",
      "61/61 [==============================] - 14s 230ms/step - loss: 2.3896 - lr: 0.0010\n",
      "Epoch 60/150\n",
      "61/61 [==============================] - ETA: 0s - loss: 2.3462\n",
      "Epoch 60: loss improved from 2.38964 to 2.34622, saving model to nextword1.h5\n",
      "61/61 [==============================] - 481s 8s/step - loss: 2.3462 - lr: 0.0010\n",
      "Epoch 61/150\n",
      "61/61 [==============================] - ETA: 0s - loss: 2.2804\n",
      "Epoch 61: loss improved from 2.34622 to 2.28043, saving model to nextword1.h5\n",
      "61/61 [==============================] - 15s 245ms/step - loss: 2.2804 - lr: 0.0010\n",
      "Epoch 62/150\n",
      "61/61 [==============================] - ETA: 0s - loss: 2.2351\n",
      "Epoch 62: loss improved from 2.28043 to 2.23512, saving model to nextword1.h5\n",
      "61/61 [==============================] - 14s 223ms/step - loss: 2.2351 - lr: 0.0010\n",
      "Epoch 63/150\n",
      "61/61 [==============================] - ETA: 0s - loss: 2.1929\n",
      "Epoch 63: loss improved from 2.23512 to 2.19289, saving model to nextword1.h5\n",
      "61/61 [==============================] - 14s 225ms/step - loss: 2.1929 - lr: 0.0010\n",
      "Epoch 64/150\n",
      "61/61 [==============================] - ETA: 0s - loss: 2.1650\n",
      "Epoch 64: loss improved from 2.19289 to 2.16504, saving model to nextword1.h5\n",
      "61/61 [==============================] - 14s 223ms/step - loss: 2.1650 - lr: 0.0010\n",
      "Epoch 65/150\n",
      "61/61 [==============================] - ETA: 0s - loss: 2.1438\n",
      "Epoch 65: loss improved from 2.16504 to 2.14385, saving model to nextword1.h5\n",
      "61/61 [==============================] - 13s 218ms/step - loss: 2.1438 - lr: 0.0010\n",
      "Epoch 66/150\n",
      "61/61 [==============================] - ETA: 0s - loss: 2.0964\n",
      "Epoch 66: loss improved from 2.14385 to 2.09643, saving model to nextword1.h5\n",
      "61/61 [==============================] - 13s 220ms/step - loss: 2.0964 - lr: 0.0010\n",
      "Epoch 67/150\n",
      "61/61 [==============================] - ETA: 0s - loss: 2.0690\n",
      "Epoch 67: loss improved from 2.09643 to 2.06899, saving model to nextword1.h5\n",
      "61/61 [==============================] - 13s 219ms/step - loss: 2.0690 - lr: 0.0010\n",
      "Epoch 68/150\n",
      "61/61 [==============================] - ETA: 0s - loss: 2.0396\n",
      "Epoch 68: loss improved from 2.06899 to 2.03961, saving model to nextword1.h5\n",
      "61/61 [==============================] - 14s 221ms/step - loss: 2.0396 - lr: 0.0010\n",
      "Epoch 69/150\n",
      "61/61 [==============================] - ETA: 0s - loss: 2.0214\n",
      "Epoch 69: loss improved from 2.03961 to 2.02139, saving model to nextword1.h5\n",
      "61/61 [==============================] - 13s 219ms/step - loss: 2.0214 - lr: 0.0010\n",
      "Epoch 70/150\n",
      "61/61 [==============================] - ETA: 0s - loss: 1.9778\n",
      "Epoch 70: loss improved from 2.02139 to 1.97778, saving model to nextword1.h5\n",
      "61/61 [==============================] - 13s 219ms/step - loss: 1.9778 - lr: 0.0010\n",
      "Epoch 71/150\n",
      "61/61 [==============================] - ETA: 0s - loss: 1.9548\n",
      "Epoch 71: loss improved from 1.97778 to 1.95476, saving model to nextword1.h5\n",
      "61/61 [==============================] - 13s 219ms/step - loss: 1.9548 - lr: 0.0010\n",
      "Epoch 72/150\n",
      "61/61 [==============================] - ETA: 0s - loss: 1.9512\n",
      "Epoch 72: loss improved from 1.95476 to 1.95117, saving model to nextword1.h5\n",
      "61/61 [==============================] - 14s 221ms/step - loss: 1.9512 - lr: 0.0010\n",
      "Epoch 73/150\n",
      "61/61 [==============================] - ETA: 0s - loss: 1.9116\n",
      "Epoch 73: loss improved from 1.95117 to 1.91160, saving model to nextword1.h5\n",
      "61/61 [==============================] - 13s 220ms/step - loss: 1.9116 - lr: 0.0010\n",
      "Epoch 74/150\n",
      "61/61 [==============================] - ETA: 0s - loss: 1.8821\n",
      "Epoch 74: loss improved from 1.91160 to 1.88205, saving model to nextword1.h5\n",
      "61/61 [==============================] - 14s 223ms/step - loss: 1.8821 - lr: 0.0010\n",
      "Epoch 75/150\n",
      "61/61 [==============================] - ETA: 0s - loss: 1.8413\n",
      "Epoch 75: loss improved from 1.88205 to 1.84134, saving model to nextword1.h5\n",
      "61/61 [==============================] - 14s 229ms/step - loss: 1.8413 - lr: 0.0010\n",
      "Epoch 76/150\n",
      "61/61 [==============================] - ETA: 0s - loss: 1.7965\n",
      "Epoch 76: loss improved from 1.84134 to 1.79654, saving model to nextword1.h5\n",
      "61/61 [==============================] - 14s 223ms/step - loss: 1.7965 - lr: 0.0010\n",
      "Epoch 77/150\n",
      "61/61 [==============================] - ETA: 0s - loss: 1.7772\n",
      "Epoch 77: loss improved from 1.79654 to 1.77722, saving model to nextword1.h5\n",
      "61/61 [==============================] - 14s 227ms/step - loss: 1.7772 - lr: 0.0010\n",
      "Epoch 78/150\n",
      "61/61 [==============================] - ETA: 0s - loss: 1.7434\n",
      "Epoch 78: loss improved from 1.77722 to 1.74342, saving model to nextword1.h5\n",
      "61/61 [==============================] - 14s 224ms/step - loss: 1.7434 - lr: 0.0010\n",
      "Epoch 79/150\n",
      "61/61 [==============================] - ETA: 0s - loss: 1.7394\n",
      "Epoch 79: loss improved from 1.74342 to 1.73936, saving model to nextword1.h5\n",
      "61/61 [==============================] - 14s 221ms/step - loss: 1.7394 - lr: 0.0010\n",
      "Epoch 80/150\n",
      "61/61 [==============================] - ETA: 0s - loss: 1.6993\n",
      "Epoch 80: loss improved from 1.73936 to 1.69931, saving model to nextword1.h5\n",
      "61/61 [==============================] - 13s 220ms/step - loss: 1.6993 - lr: 0.0010\n",
      "Epoch 81/150\n",
      "61/61 [==============================] - ETA: 0s - loss: 1.6853\n",
      "Epoch 81: loss improved from 1.69931 to 1.68532, saving model to nextword1.h5\n",
      "61/61 [==============================] - 13s 221ms/step - loss: 1.6853 - lr: 0.0010\n",
      "Epoch 82/150\n",
      "61/61 [==============================] - ETA: 0s - loss: 1.6615\n",
      "Epoch 82: loss improved from 1.68532 to 1.66151, saving model to nextword1.h5\n",
      "61/61 [==============================] - 13s 217ms/step - loss: 1.6615 - lr: 0.0010\n",
      "Epoch 83/150\n",
      "61/61 [==============================] - ETA: 0s - loss: 1.6510\n",
      "Epoch 83: loss improved from 1.66151 to 1.65096, saving model to nextword1.h5\n",
      "61/61 [==============================] - 14s 223ms/step - loss: 1.6510 - lr: 0.0010\n",
      "Epoch 84/150\n",
      "61/61 [==============================] - ETA: 0s - loss: 1.6121\n",
      "Epoch 84: loss improved from 1.65096 to 1.61206, saving model to nextword1.h5\n",
      "61/61 [==============================] - 14s 222ms/step - loss: 1.6121 - lr: 0.0010\n",
      "Epoch 85/150\n",
      "61/61 [==============================] - ETA: 0s - loss: 1.6072\n",
      "Epoch 85: loss improved from 1.61206 to 1.60724, saving model to nextword1.h5\n",
      "61/61 [==============================] - 13s 219ms/step - loss: 1.6072 - lr: 0.0010\n",
      "Epoch 86/150\n",
      "61/61 [==============================] - ETA: 0s - loss: 1.5839\n",
      "Epoch 86: loss improved from 1.60724 to 1.58392, saving model to nextword1.h5\n",
      "61/61 [==============================] - 13s 220ms/step - loss: 1.5839 - lr: 0.0010\n",
      "Epoch 87/150\n",
      "61/61 [==============================] - ETA: 0s - loss: 1.5631\n",
      "Epoch 87: loss improved from 1.58392 to 1.56314, saving model to nextword1.h5\n",
      "61/61 [==============================] - 14s 221ms/step - loss: 1.5631 - lr: 0.0010\n",
      "Epoch 88/150\n",
      "61/61 [==============================] - ETA: 0s - loss: 1.5617\n",
      "Epoch 88: loss improved from 1.56314 to 1.56168, saving model to nextword1.h5\n",
      "61/61 [==============================] - 13s 220ms/step - loss: 1.5617 - lr: 0.0010\n",
      "Epoch 89/150\n",
      "61/61 [==============================] - ETA: 0s - loss: 1.5806\n",
      "Epoch 89: loss did not improve from 1.56168\n",
      "61/61 [==============================] - 13s 210ms/step - loss: 1.5806 - lr: 0.0010\n",
      "Epoch 90/150\n",
      "61/61 [==============================] - ETA: 0s - loss: 1.5414\n",
      "Epoch 90: loss improved from 1.56168 to 1.54140, saving model to nextword1.h5\n",
      "61/61 [==============================] - 13s 220ms/step - loss: 1.5414 - lr: 0.0010\n",
      "Epoch 91/150\n",
      "61/61 [==============================] - ETA: 0s - loss: 1.5391\n",
      "Epoch 91: loss improved from 1.54140 to 1.53911, saving model to nextword1.h5\n",
      "61/61 [==============================] - 14s 222ms/step - loss: 1.5391 - lr: 0.0010\n",
      "Epoch 92/150\n",
      "61/61 [==============================] - ETA: 0s - loss: 1.5101\n",
      "Epoch 92: loss improved from 1.53911 to 1.51013, saving model to nextword1.h5\n",
      "61/61 [==============================] - 13s 219ms/step - loss: 1.5101 - lr: 0.0010\n",
      "Epoch 93/150\n",
      "61/61 [==============================] - ETA: 0s - loss: 1.4919\n",
      "Epoch 93: loss improved from 1.51013 to 1.49185, saving model to nextword1.h5\n",
      "61/61 [==============================] - 14s 223ms/step - loss: 1.4919 - lr: 0.0010\n",
      "Epoch 94/150\n",
      "61/61 [==============================] - ETA: 0s - loss: 1.4476\n",
      "Epoch 94: loss improved from 1.49185 to 1.44760, saving model to nextword1.h5\n",
      "61/61 [==============================] - 14s 221ms/step - loss: 1.4476 - lr: 0.0010\n",
      "Epoch 95/150\n",
      "61/61 [==============================] - ETA: 0s - loss: 1.4179\n",
      "Epoch 95: loss improved from 1.44760 to 1.41794, saving model to nextword1.h5\n",
      "61/61 [==============================] - 13s 221ms/step - loss: 1.4179 - lr: 0.0010\n",
      "Epoch 96/150\n",
      "61/61 [==============================] - ETA: 0s - loss: 1.4137\n",
      "Epoch 96: loss improved from 1.41794 to 1.41375, saving model to nextword1.h5\n",
      "61/61 [==============================] - 13s 218ms/step - loss: 1.4137 - lr: 0.0010\n",
      "Epoch 97/150\n",
      "61/61 [==============================] - ETA: 0s - loss: 1.4289\n",
      "Epoch 97: loss did not improve from 1.41375\n",
      "61/61 [==============================] - 13s 211ms/step - loss: 1.4289 - lr: 0.0010\n",
      "Epoch 98/150\n",
      "61/61 [==============================] - ETA: 0s - loss: 1.3817\n",
      "Epoch 98: loss improved from 1.41375 to 1.38174, saving model to nextword1.h5\n",
      "61/61 [==============================] - 13s 221ms/step - loss: 1.3817 - lr: 0.0010\n",
      "Epoch 99/150\n",
      "61/61 [==============================] - ETA: 0s - loss: 1.3855\n",
      "Epoch 99: loss did not improve from 1.38174\n",
      "61/61 [==============================] - 11s 185ms/step - loss: 1.3855 - lr: 0.0010\n",
      "Epoch 100/150\n",
      "61/61 [==============================] - ETA: 0s - loss: 1.3820\n",
      "Epoch 100: loss did not improve from 1.38174\n",
      "61/61 [==============================] - 10s 166ms/step - loss: 1.3820 - lr: 0.0010\n",
      "Epoch 101/150\n",
      "61/61 [==============================] - ETA: 0s - loss: 1.3962\n",
      "Epoch 101: loss did not improve from 1.38174\n",
      "\n",
      "Epoch 101: ReduceLROnPlateau reducing learning rate to 0.00020000000949949026.\n",
      "61/61 [==============================] - 10s 166ms/step - loss: 1.3962 - lr: 0.0010\n",
      "Epoch 102/150\n",
      "61/61 [==============================] - ETA: 0s - loss: 1.0320\n",
      "Epoch 102: loss improved from 1.38174 to 1.03198, saving model to nextword1.h5\n",
      "61/61 [==============================] - 11s 174ms/step - loss: 1.0320 - lr: 2.0000e-04\n",
      "Epoch 103/150\n",
      "61/61 [==============================] - ETA: 0s - loss: 0.8978\n",
      "Epoch 103: loss improved from 1.03198 to 0.89782, saving model to nextword1.h5\n",
      "61/61 [==============================] - 11s 172ms/step - loss: 0.8978 - lr: 2.0000e-04\n",
      "Epoch 104/150\n",
      "61/61 [==============================] - ETA: 0s - loss: 0.8513\n",
      "Epoch 104: loss improved from 0.89782 to 0.85130, saving model to nextword1.h5\n",
      "61/61 [==============================] - 11s 174ms/step - loss: 0.8513 - lr: 2.0000e-04\n",
      "Epoch 105/150\n",
      "61/61 [==============================] - ETA: 0s - loss: 0.8285\n",
      "Epoch 105: loss improved from 0.85130 to 0.82848, saving model to nextword1.h5\n",
      "61/61 [==============================] - 11s 172ms/step - loss: 0.8285 - lr: 2.0000e-04\n",
      "Epoch 106/150\n",
      "61/61 [==============================] - ETA: 0s - loss: 0.8144\n",
      "Epoch 106: loss improved from 0.82848 to 0.81442, saving model to nextword1.h5\n",
      "61/61 [==============================] - 11s 175ms/step - loss: 0.8144 - lr: 2.0000e-04\n",
      "Epoch 107/150\n",
      "61/61 [==============================] - ETA: 0s - loss: 0.8051\n",
      "Epoch 107: loss improved from 0.81442 to 0.80505, saving model to nextword1.h5\n",
      "61/61 [==============================] - 11s 175ms/step - loss: 0.8051 - lr: 2.0000e-04\n",
      "Epoch 108/150\n",
      "61/61 [==============================] - ETA: 0s - loss: 0.7981\n",
      "Epoch 108: loss improved from 0.80505 to 0.79809, saving model to nextword1.h5\n",
      "61/61 [==============================] - 11s 172ms/step - loss: 0.7981 - lr: 2.0000e-04\n",
      "Epoch 109/150\n",
      "61/61 [==============================] - ETA: 0s - loss: 0.7911\n",
      "Epoch 109: loss improved from 0.79809 to 0.79113, saving model to nextword1.h5\n",
      "61/61 [==============================] - 11s 175ms/step - loss: 0.7911 - lr: 2.0000e-04\n",
      "Epoch 110/150\n",
      "61/61 [==============================] - ETA: 0s - loss: 0.7874\n",
      "Epoch 110: loss improved from 0.79113 to 0.78741, saving model to nextword1.h5\n",
      "61/61 [==============================] - 11s 174ms/step - loss: 0.7874 - lr: 2.0000e-04\n",
      "Epoch 111/150\n",
      "61/61 [==============================] - ETA: 0s - loss: 0.7804\n",
      "Epoch 111: loss improved from 0.78741 to 0.78042, saving model to nextword1.h5\n",
      "61/61 [==============================] - 11s 175ms/step - loss: 0.7804 - lr: 2.0000e-04\n",
      "Epoch 112/150\n",
      "61/61 [==============================] - ETA: 0s - loss: 0.7772\n",
      "Epoch 112: loss improved from 0.78042 to 0.77716, saving model to nextword1.h5\n",
      "61/61 [==============================] - 11s 173ms/step - loss: 0.7772 - lr: 2.0000e-04\n",
      "Epoch 113/150\n",
      "61/61 [==============================] - ETA: 0s - loss: 0.7752\n",
      "Epoch 113: loss improved from 0.77716 to 0.77519, saving model to nextword1.h5\n",
      "61/61 [==============================] - 11s 174ms/step - loss: 0.7752 - lr: 2.0000e-04\n",
      "Epoch 114/150\n",
      "61/61 [==============================] - ETA: 0s - loss: 0.7707\n",
      "Epoch 114: loss improved from 0.77519 to 0.77073, saving model to nextword1.h5\n",
      "61/61 [==============================] - 11s 174ms/step - loss: 0.7707 - lr: 2.0000e-04\n",
      "Epoch 115/150\n",
      "61/61 [==============================] - ETA: 0s - loss: 0.7691\n",
      "Epoch 115: loss improved from 0.77073 to 0.76908, saving model to nextword1.h5\n",
      "61/61 [==============================] - 11s 173ms/step - loss: 0.7691 - lr: 2.0000e-04\n",
      "Epoch 116/150\n",
      "61/61 [==============================] - ETA: 0s - loss: 0.7653\n",
      "Epoch 116: loss improved from 0.76908 to 0.76532, saving model to nextword1.h5\n",
      "61/61 [==============================] - 11s 173ms/step - loss: 0.7653 - lr: 2.0000e-04\n",
      "Epoch 117/150\n",
      "61/61 [==============================] - ETA: 0s - loss: 0.7639\n",
      "Epoch 117: loss improved from 0.76532 to 0.76386, saving model to nextword1.h5\n",
      "61/61 [==============================] - 11s 174ms/step - loss: 0.7639 - lr: 2.0000e-04\n",
      "Epoch 118/150\n",
      "61/61 [==============================] - ETA: 0s - loss: 0.7618\n",
      "Epoch 118: loss improved from 0.76386 to 0.76179, saving model to nextword1.h5\n",
      "61/61 [==============================] - 11s 174ms/step - loss: 0.7618 - lr: 2.0000e-04\n",
      "Epoch 119/150\n",
      "61/61 [==============================] - ETA: 0s - loss: 0.7594\n",
      "Epoch 119: loss improved from 0.76179 to 0.75942, saving model to nextword1.h5\n",
      "61/61 [==============================] - 11s 175ms/step - loss: 0.7594 - lr: 2.0000e-04\n",
      "Epoch 120/150\n",
      "61/61 [==============================] - ETA: 0s - loss: 0.7588\n",
      "Epoch 120: loss improved from 0.75942 to 0.75878, saving model to nextword1.h5\n",
      "61/61 [==============================] - 11s 174ms/step - loss: 0.7588 - lr: 2.0000e-04\n",
      "Epoch 121/150\n",
      "61/61 [==============================] - ETA: 0s - loss: 0.7573\n",
      "Epoch 121: loss improved from 0.75878 to 0.75728, saving model to nextword1.h5\n",
      "61/61 [==============================] - 11s 174ms/step - loss: 0.7573 - lr: 2.0000e-04\n",
      "Epoch 122/150\n",
      "61/61 [==============================] - ETA: 0s - loss: 0.7538\n",
      "Epoch 122: loss improved from 0.75728 to 0.75381, saving model to nextword1.h5\n",
      "61/61 [==============================] - 11s 173ms/step - loss: 0.7538 - lr: 2.0000e-04\n",
      "Epoch 123/150\n",
      "61/61 [==============================] - ETA: 0s - loss: 0.7523\n",
      "Epoch 123: loss improved from 0.75381 to 0.75228, saving model to nextword1.h5\n",
      "61/61 [==============================] - 11s 173ms/step - loss: 0.7523 - lr: 2.0000e-04\n",
      "Epoch 124/150\n",
      "61/61 [==============================] - ETA: 0s - loss: 0.7507\n",
      "Epoch 124: loss improved from 0.75228 to 0.75074, saving model to nextword1.h5\n",
      "61/61 [==============================] - 11s 173ms/step - loss: 0.7507 - lr: 2.0000e-04\n",
      "Epoch 125/150\n",
      "61/61 [==============================] - ETA: 0s - loss: 0.7520\n",
      "Epoch 125: loss did not improve from 0.75074\n",
      "61/61 [==============================] - 10s 166ms/step - loss: 0.7520 - lr: 2.0000e-04\n",
      "Epoch 126/150\n",
      "61/61 [==============================] - ETA: 0s - loss: 0.7469\n",
      "Epoch 126: loss improved from 0.75074 to 0.74688, saving model to nextword1.h5\n",
      "61/61 [==============================] - 10s 171ms/step - loss: 0.7469 - lr: 2.0000e-04\n",
      "Epoch 127/150\n",
      "61/61 [==============================] - ETA: 0s - loss: 0.7472\n",
      "Epoch 127: loss did not improve from 0.74688\n",
      "61/61 [==============================] - 10s 167ms/step - loss: 0.7472 - lr: 2.0000e-04\n",
      "Epoch 128/150\n",
      "61/61 [==============================] - ETA: 0s - loss: 0.7457\n",
      "Epoch 128: loss improved from 0.74688 to 0.74566, saving model to nextword1.h5\n",
      "61/61 [==============================] - 11s 176ms/step - loss: 0.7457 - lr: 2.0000e-04\n",
      "Epoch 129/150\n",
      "61/61 [==============================] - ETA: 0s - loss: 0.7423\n",
      "Epoch 129: loss improved from 0.74566 to 0.74234, saving model to nextword1.h5\n",
      "61/61 [==============================] - 11s 173ms/step - loss: 0.7423 - lr: 2.0000e-04\n",
      "Epoch 130/150\n",
      "61/61 [==============================] - ETA: 0s - loss: 0.7459\n",
      "Epoch 130: loss did not improve from 0.74234\n",
      "61/61 [==============================] - 10s 166ms/step - loss: 0.7459 - lr: 2.0000e-04\n",
      "Epoch 131/150\n",
      "61/61 [==============================] - ETA: 0s - loss: 0.7410\n",
      "Epoch 131: loss improved from 0.74234 to 0.74105, saving model to nextword1.h5\n",
      "61/61 [==============================] - 10s 171ms/step - loss: 0.7410 - lr: 2.0000e-04\n",
      "Epoch 132/150\n",
      "61/61 [==============================] - ETA: 0s - loss: 0.7412\n",
      "Epoch 132: loss did not improve from 0.74105\n",
      "61/61 [==============================] - 10s 166ms/step - loss: 0.7412 - lr: 2.0000e-04\n",
      "Epoch 133/150\n",
      "61/61 [==============================] - ETA: 0s - loss: 0.7379\n",
      "Epoch 133: loss improved from 0.74105 to 0.73790, saving model to nextword1.h5\n",
      "61/61 [==============================] - 11s 172ms/step - loss: 0.7379 - lr: 2.0000e-04\n",
      "Epoch 134/150\n",
      "61/61 [==============================] - ETA: 0s - loss: 0.7404\n",
      "Epoch 134: loss did not improve from 0.73790\n",
      "61/61 [==============================] - 10s 167ms/step - loss: 0.7404 - lr: 2.0000e-04\n",
      "Epoch 135/150\n",
      "61/61 [==============================] - ETA: 0s - loss: 0.7361\n",
      "Epoch 135: loss improved from 0.73790 to 0.73611, saving model to nextword1.h5\n",
      "61/61 [==============================] - 10s 171ms/step - loss: 0.7361 - lr: 2.0000e-04\n",
      "Epoch 136/150\n",
      "61/61 [==============================] - ETA: 0s - loss: 0.7336\n",
      "Epoch 136: loss improved from 0.73611 to 0.73358, saving model to nextword1.h5\n",
      "61/61 [==============================] - 14s 229ms/step - loss: 0.7336 - lr: 2.0000e-04\n",
      "Epoch 137/150\n",
      "61/61 [==============================] - ETA: 0s - loss: 0.7337\n",
      "Epoch 137: loss did not improve from 0.73358\n",
      "61/61 [==============================] - 13s 216ms/step - loss: 0.7337 - lr: 2.0000e-04\n",
      "Epoch 138/150\n",
      "61/61 [==============================] - ETA: 0s - loss: 0.7325\n",
      "Epoch 138: loss improved from 0.73358 to 0.73251, saving model to nextword1.h5\n",
      "61/61 [==============================] - 14s 223ms/step - loss: 0.7325 - lr: 2.0000e-04\n",
      "Epoch 139/150\n",
      "61/61 [==============================] - ETA: 0s - loss: 0.7330\n",
      "Epoch 139: loss did not improve from 0.73251\n",
      "61/61 [==============================] - 13s 211ms/step - loss: 0.7330 - lr: 2.0000e-04\n",
      "Epoch 140/150\n",
      "61/61 [==============================] - ETA: 0s - loss: 0.7335\n",
      "Epoch 140: loss did not improve from 0.73251\n",
      "61/61 [==============================] - 13s 210ms/step - loss: 0.7335 - lr: 2.0000e-04\n",
      "Epoch 141/150\n",
      "61/61 [==============================] - ETA: 0s - loss: 0.7324\n",
      "Epoch 141: loss improved from 0.73251 to 0.73235, saving model to nextword1.h5\n",
      "61/61 [==============================] - 14s 225ms/step - loss: 0.7324 - lr: 2.0000e-04\n",
      "Epoch 142/150\n",
      "61/61 [==============================] - ETA: 0s - loss: 0.7303\n",
      "Epoch 142: loss improved from 0.73235 to 0.73031, saving model to nextword1.h5\n",
      "61/61 [==============================] - 14s 229ms/step - loss: 0.7303 - lr: 2.0000e-04\n",
      "Epoch 143/150\n",
      "61/61 [==============================] - ETA: 0s - loss: 0.7274\n",
      "Epoch 143: loss improved from 0.73031 to 0.72738, saving model to nextword1.h5\n",
      "61/61 [==============================] - 14s 221ms/step - loss: 0.7274 - lr: 2.0000e-04\n",
      "Epoch 144/150\n",
      "61/61 [==============================] - ETA: 0s - loss: 0.7290\n",
      "Epoch 144: loss did not improve from 0.72738\n",
      "61/61 [==============================] - 13s 209ms/step - loss: 0.7290 - lr: 2.0000e-04\n",
      "Epoch 145/150\n",
      "61/61 [==============================] - ETA: 0s - loss: 0.7259\n",
      "Epoch 145: loss improved from 0.72738 to 0.72588, saving model to nextword1.h5\n",
      "61/61 [==============================] - 13s 217ms/step - loss: 0.7259 - lr: 2.0000e-04\n",
      "Epoch 146/150\n",
      "61/61 [==============================] - ETA: 0s - loss: 0.7231\n",
      "Epoch 146: loss improved from 0.72588 to 0.72312, saving model to nextword1.h5\n",
      "61/61 [==============================] - 14s 222ms/step - loss: 0.7231 - lr: 2.0000e-04\n",
      "Epoch 147/150\n",
      "61/61 [==============================] - ETA: 0s - loss: 0.7267\n",
      "Epoch 147: loss did not improve from 0.72312\n",
      "61/61 [==============================] - 13s 211ms/step - loss: 0.7267 - lr: 2.0000e-04\n",
      "Epoch 148/150\n",
      "61/61 [==============================] - ETA: 0s - loss: 0.7235\n",
      "Epoch 148: loss did not improve from 0.72312\n",
      "61/61 [==============================] - 13s 211ms/step - loss: 0.7235 - lr: 2.0000e-04\n",
      "Epoch 149/150\n",
      "61/61 [==============================] - ETA: 0s - loss: 0.7213\n",
      "Epoch 149: loss improved from 0.72312 to 0.72131, saving model to nextword1.h5\n",
      "61/61 [==============================] - 14s 222ms/step - loss: 0.7213 - lr: 2.0000e-04\n",
      "Epoch 150/150\n",
      "61/61 [==============================] - ETA: 0s - loss: 0.7224\n",
      "Epoch 150: loss did not improve from 0.72131\n",
      "61/61 [==============================] - 13s 210ms/step - loss: 0.7224 - lr: 2.0000e-04\n"
     ]
    },
    {
     "data": {
      "text/plain": [
       "<keras.callbacks.History at 0x273c1073040>"
      ]
     },
     "execution_count": 50,
     "metadata": {},
     "output_type": "execute_result"
    }
   ],
   "source": [
    "model.fit(X, y, epochs=150, batch_size=64, callbacks=[checkpoint, reduce, tensorboard_Visualization])"
   ]
  },
  {
   "cell_type": "code",
   "execution_count": 59,
   "metadata": {},
   "outputs": [
    {
     "data": {
      "text/plain": [
       "1"
      ]
     },
     "execution_count": 59,
     "metadata": {},
     "output_type": "execute_result"
    }
   ],
   "source": [
    "import os\n",
    "os.system(\"powershell -c tmp.png\")"
   ]
  },
  {
   "cell_type": "code",
   "execution_count": 62,
   "metadata": {},
   "outputs": [],
   "source": [
    "from IPython.display import Image"
   ]
  },
  {
   "cell_type": "code",
   "execution_count": 3,
   "metadata": {},
   "outputs": [
    {
     "data": {
      "image/png": "[encoded data removed]",
      "text/plain": [
       "<PIL.PngImagePlugin.PngImageFile image mode=RGBA size=1437x673 at 0x16410C81250>"
      ]
     },
     "metadata": {},
     "output_type": "display_data"
    }
   ],
   "source": [
    "from IPython.display import display\n",
    "from PIL import Image\n",
    "\n",
    "\n",
    "path=(\"C:/Users/pranay/Downloads/graph1.png\")\n",
    "display(Image.open(path))"
   ]
  },
  {
   "cell_type": "code",
   "execution_count": 65,
   "metadata": {},
   "outputs": [],
   "source": [
    "from IPython.display import display\n",
    "from PIL import Image"
   ]
  },
  {
   "cell_type": "code",
   "execution_count": 67,
   "metadata": {},
   "outputs": [
    {
     "ename": "SyntaxError",
     "evalue": "(unicode error) 'unicodeescape' codec can't decode bytes in position 2-3: truncated \\UXXXXXXXX escape (<ipython-input-67-f4e78245c656>, line 1)",
     "output_type": "error",
     "traceback": [
      "\u001b[1;36m  File \u001b[1;32m\"<ipython-input-67-f4e78245c656>\"\u001b[1;36m, line \u001b[1;32m1\u001b[0m\n\u001b[1;33m    path= \"C:\\Users\\pranay\\Downloads\\graph.png\"\u001b[0m\n\u001b[1;37m          ^\u001b[0m\n\u001b[1;31mSyntaxError\u001b[0m\u001b[1;31m:\u001b[0m (unicode error) 'unicodeescape' codec can't decode bytes in position 2-3: truncated \\UXXXXXXXX escape\n"
     ]
    }
   ],
   "source": [
    "path= \"C:\\Users\\pranay\\Downloads\\graph.png\"\n",
    "display(Image.open(path))"
   ]
  }
 ],
 "metadata": {
  "interpreter": {
   "hash": "5427cc596c583ee5597adc8008658adfd2d0e611d6f074d6464c8dfe3ecd2c24"
  },
  "kernelspec": {
   "display_name": "Python 3.8.8 ('base')",
   "language": "python",
   "name": "python3"
  },
  "language_info": {
   "codemirror_mode": {
    "name": "ipython",
    "version": 3
   },
   "file_extension": ".py",
   "mimetype": "text/x-python",
   "name": "python",
   "nbconvert_exporter": "python",
   "pygments_lexer": "ipython3",
   "version": "3.8.8"
  },
  "orig_nbformat": 4
 },
 "nbformat": 4,
 "nbformat_minor": 2
}
